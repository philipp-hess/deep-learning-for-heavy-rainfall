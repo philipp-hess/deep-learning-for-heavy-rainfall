{
 "cells": [
  {
   "cell_type": "markdown",
   "metadata": {},
   "source": [
    "# Evaluate model results"
   ]
  },
  {
   "cell_type": "code",
   "execution_count": null,
   "metadata": {},
   "outputs": [],
   "source": [
    "import numpy as np\n",
    "import os, fnmatch\n",
    "import pandas as pd\n",
    "import torch\n",
    "import xarray as xr\n",
    "\n",
    "%matplotlib inline\n",
    "from IPython.display import set_matplotlib_formats\n",
    "import matplotlib.pyplot as plt\n",
    "\n",
    "import findspark\n",
    "findspark.init('/p/system/packages/spark/2.3.0')\n",
    "\n",
    "from lib.spark import ModelData\n",
    "from pyspark.sql.functions import col\n",
    "\n",
    "from src.inference import model_inference, get_baseline, evaluate_models, load_prediction\n",
    "import src.evaluation_geographic as fa\n",
    "from src.inference import InferenceConfig\n",
    "\n",
    "device = torch.device('cuda' if torch.cuda.is_available() else 'cpu')\n",
    "print(f'Running on {str(device).upper()}.')\n",
    "if torch.cuda.is_available(): print(torch.cuda.get_device_name())"
   ]
  },
  {
   "cell_type": "code",
   "execution_count": null,
   "metadata": {},
   "outputs": [],
   "source": [
    "def save_prediction(name, prediction, target, baseline):\n",
    "    dir='/path/to/models'\n",
    "    tmp = np.stack([prediction, target, baseline])\n",
    "    np.save(dir+'/'+name, tmp)\n",
    "    print('saved at ', dir+'/'+name+'.npy')"
   ]
  },
  {
   "cell_type": "code",
   "execution_count": null,
   "metadata": {},
   "outputs": [],
   "source": [
    "model_name = 'UNet-mse'\n",
    "training_output_path = '/path/to/training_statistics'\n",
    "config = InferenceConfig(md, [None], '3hourly', 'unet',  'test')\n",
    "\n",
    "config.data_parallel = False\n",
    "config.input_format = 'netcdf'\n",
    "config.num_workers = 0\n",
    "config.device = 'cuda'\n",
    "config.batch_size = 8\n",
    "\n",
    "md = ModelData()\n",
    "md.import_data(training_output_path)\n",
    "\n",
    "model_stats = md.get_training_data(model_name, '2021/01/01', '2021/12/31')\n",
    "model_stats = model_stats.sort_values(['date']).head(50)\n",
    "display(model_stats)"
   ]
  },
  {
   "cell_type": "code",
   "execution_count": null,
   "metadata": {},
   "outputs": [],
   "source": [
    "mask_threshold = 0.0\n",
    "clean_threshold = 0.1\n",
    "prediction_dict = {}\n",
    "\n",
    "for i, uuid in enumerate(model_stats['id']):\n",
    "        \n",
    "    print(f\"{i}/{len(models)}\")\n",
    "    \n",
    "    options = md.get_training_options(uuid)\n",
    "    config.model_id = uuid\n",
    "    \n",
    "    print(\"RUN:\")\n",
    "    print(\"Features:\", options['features'])\n",
    "        \n",
    "    lats, lons, prediction, baseline, target,  _ = evaluate_models(config)\n",
    "    prediction_dict[options['model_name']] = prediction\n",
    "    \n",
    "    model_name = md.get_training_options(uuid)['model_name']\n",
    "    save_prediction(model_name, prediction, target, baseline)\n",
    "    \n",
    "    eval = fa.GeographicValidation(lats, lons)\n",
    "    \n",
    "    metrics_list = ['RMSE', 'Bias']\n",
    "    _, _, _ = eval.compute_metrics(metrics_list, prediction, baseline, target,\n",
    "                                   mask_threshold=mask_threshold,\n",
    "                                   clean_threshold=clean_threshold,\n",
    "                                   verbose=True)"
   ]
  }
 ],
 "metadata": {
  "kernelspec": {
   "display_name": "Python 3",
   "language": "python",
   "name": "python3"
  },
  "language_info": {
   "codemirror_mode": {
    "name": "ipython",
    "version": 3
   },
   "file_extension": ".py",
   "mimetype": "text/x-python",
   "name": "python",
   "nbconvert_exporter": "python",
   "pygments_lexer": "ipython3",
   "version": "3.6.7"
  }
 },
 "nbformat": 4,
 "nbformat_minor": 4
}
