{
 "cells": [
  {
   "cell_type": "markdown",
   "metadata": {},
   "source": [
    "# Create plots of spatial maps"
   ]
  },
  {
   "cell_type": "code",
   "execution_count": null,
   "metadata": {},
   "outputs": [],
   "source": [
    "import pandas as pd\n",
    "import numpy as np\n",
    "import matplotlib.pyplot as plt\n",
    "import src.evaluation_utils as eu\n",
    "import src.evaluation_plots as ep\n",
    "from src.plot_utils import ScoreData, PlotSpatialHSSScores, PlotSingleFrames\n",
    "import time"
   ]
  },
  {
   "cell_type": "markdown",
   "metadata": {},
   "source": [
    "## Load Data"
   ]
  },
  {
   "cell_type": "code",
   "execution_count": null,
   "metadata": {},
   "outputs": [],
   "source": [
    "def load_data(fname):\n",
    "    import pickle\n",
    "    with open(f'{fname}.dat', \"rb\") as f:\n",
    "        data = pickle.load(f)\n",
    "    return data\n",
    "\n",
    "def save_data(data, fname):\n",
    "    import pickle\n",
    "    with open(f'{fname}.dat', \"wb\") as f:\n",
    "        pickle.dump(data, f)"
   ]
  },
  {
   "cell_type": "code",
   "execution_count": null,
   "metadata": {},
   "outputs": [],
   "source": [
    "def load_high_resolution(model_file_name: str):\n",
    "    \n",
    "    run = np.load(f'/path/to/models/{model_file_name}')\n",
    "    dnn_weighted = run[0]\n",
    "    \n",
    "    run = np.load('/path/to/models/dnn.npy')\n",
    "    dnn, target, ifs = run[0], run[1], run[2]\n",
    "    \n",
    "    return dnn_weighted, target, ifs"
   ]
  },
  {
   "cell_type": "markdown",
   "metadata": {},
   "source": [
    "## Compute statistics and save results to disk"
   ]
  },
  {
   "cell_type": "code",
   "execution_count": null,
   "metadata": {},
   "outputs": [],
   "source": [
    "dataset_path = '/path/to/training_dataset.nc4'\n",
    "ds = xr.open_dataset(path, chunks={'time': 1})\n",
    "data = ds.trmm_total_precipitation.values\n",
    "min_precipitation_threshold_in_mm_per_3hours = 0.1\n",
    "\n",
    "percentiles = [75, 80, 85, 90, 95, 97.5, 99]"
   ]
  },
  {
   "cell_type": "code",
   "execution_count": null,
   "metadata": {},
   "outputs": [],
   "source": [
    "model_name = 'dnn.npy' # and 'dnn_weighted.npy'\n",
    "\n",
    "thresholds = []\n",
    "for percentile in percentiles:\n",
    "    threshold = eu.local_thresholds_from_percentiles(data, percentile,\n",
    "                                                     data_min=min_precipitation_threshold_in_mm_per_3hours)\n",
    "    thresholds.append(threshold)\n",
    "    \n",
    "dnn, target, ifs = load_high_resolution()\n",
    "\n",
    "target_binary = eu.continuous_to_categorical_with_thresholds(target, thresholds)\n",
    "ifs_binary = eu.continuous_to_categorical_with_thresholds(ifs, thresholds)\n",
    "dnn_binary = eu.continuous_to_categorical_with_thresholds(dnn, thresholds)\n",
    "\n",
    "metric = 'heidke_skill_score'\n",
    "\n",
    "dnn_geographic_scores = eu.geographic_categorical_evaluation(dnn_binary, target_binary, metric)\n",
    "ifs_geographic_scores = eu.geographic_categorical_evaluation(ifs_binary, target_binary, metric)\n",
    "    \n",
    "data = [dnn_geographic_scores, ifs_geographic_scores]\n",
    "fname = f\"/path/to/categorical_hourly_geographic_scores_dnn\"\n",
    "save_data(data, fname)"
   ]
  },
  {
   "cell_type": "markdown",
   "metadata": {},
   "source": [
    "## Load statistics from disk"
   ]
  },
  {
   "cell_type": "markdown",
   "metadata": {},
   "source": [
    "### Figure 3"
   ]
  },
  {
   "cell_type": "code",
   "execution_count": null,
   "metadata": {},
   "outputs": [],
   "source": [
    "fname = \"/path/to/categorical_hourly_geographic_scores_dnn\"\n",
    "data = load_data(fname)\n",
    "dnn_scores, ifs_geographic_scores = data[0], data[1]\n",
    "\n",
    "fname = \"/path/to/categorical_hourly_geographic_scores\"\n",
    "data = load_data(fname)\n",
    "dnn_weighted_geographic_scores, ifs_geographic_scores = data[0], data[1]\n",
    "\n",
    "path = '/path/to/training_dataset.nc4'\n",
    "ds = xr.open_dataset(path, chunks={'time': 1})\n",
    "data = ds.trmm_total_precipitation.values\n",
    "min_precipitation_threshold_in_mm_per_3hours = 0.1\n",
    "percentiles = [75, 80, 85, 90, 95, 97.5, 99]\n",
    "\n",
    "threshold = eu.local_thresholds_from_percentiles(data, 95,\n",
    "    data_min=min_precipitation_threshold_in_mm_per_3hours)\n",
    "\n",
    "configs = {\n",
    "            'HSS': {\n",
    "                'cmap': 'viridis_r',\n",
    "                'cbar_title': f'HSS',\n",
    "                'alpha': 0.6,\n",
    "                'vmin': 0.05,\n",
    "                'vmax': 0.25,\n",
    "                'cbar_extend': 'both',\n",
    "                'title': '',\n",
    "            },\n",
    "          'Percentile': {\n",
    "                'cmap': 'viridis_r',\n",
    "                'cbar_title': f'95th rainfall percentile [mm/3h]',\n",
    "                'alpha': 0.7,\n",
    "                'vmin': 20.,\n",
    "                'vmax': 0,\n",
    "                'cbar_extend': 'max',\n",
    "                'title': ''\n",
    "          }\n",
    "        }\n",
    "\n",
    "out_path ='/path/to/figures/'\n",
    "percentile = 95\n",
    "file_name = None\n",
    "idx = 0\n",
    "data = ScoreData(percentile=threshold,\n",
    "                ifs=ifs_geographic_scores[idx],\n",
    "                dnn=dnn_weighted_geographic_scores[idx])\n",
    "\n",
    "\n",
    "PlotSpatialHSSScores(data, percentile, configs, out_path, plot_percentiles=True).plot()"
   ]
  },
  {
   "cell_type": "markdown",
   "metadata": {},
   "source": [
    "### Figure 4"
   ]
  },
  {
   "cell_type": "code",
   "execution_count": null,
   "metadata": {},
   "outputs": [],
   "source": [
    "file_name = '/path/to/figures/hss_skill_over_latitudes.pdf'\n",
    "\n",
    "fig = plt.figure(figsize=(9,4))\n",
    "ax1 = fig.add_subplot(111)\n",
    "\n",
    "lats = np.arange(-50,52,0.51)\n",
    "\n",
    "data = dnn_weighted_geographic_scores['heidke_skill_score'][4]\n",
    "data = np.where(data < -990, 0, data )\n",
    "data = data.mean(axis=1)\n",
    "dnn = ax1.plot(lats, data, label='HSS DNN (Weighted)', color='tab:red')\n",
    "\n",
    "data = ifs_geographic_scores['heidke_skill_score'][4]\n",
    "data = np.where(data < -990, 0, data )\n",
    "data = data.mean(axis=1)\n",
    "ifs = ax1.plot(lats, data, label='HSS IFS', color='tab:blue')\n",
    "\n",
    "data = dnn_scores[0]\n",
    "data = np.where(data < -990, 0, data )\n",
    "data = data.mean(axis=1)\n",
    "dnn_mse = ax1.plot(lats, data, label='HSS DNN (MSE)', color='tab:green')\n",
    "\n",
    "ax1.set_ylabel('HSS') \n",
    "ax1.set_xlabel('Latitude')\n",
    "ax1.set_xticks([-40,-20,0,20,40])\n",
    "ax1.set_xticklabels([r'$40^{\\circ}$E',r'$20^{\\circ}$E', r'$0^{\\circ}$', r'$20^{\\circ}$W', r'$40^{\\circ}$W'])\n",
    "ax1.set_ylim(0,0.35)\n",
    "\n",
    "ax2 = ax1.twinx()\n",
    "ax2.set_ylabel('95th rainfall percentile [mm/3h]') \n",
    "th = plt.plot(lats,threshold.mean(axis=1), color='k', label='TRMM 95th rainfall percentile')\n",
    "\n",
    "lns = ifs+dnn+dnn_mse+th\n",
    "labs = [l.get_label() for l in lns]\n",
    "ax1.legend(lns, labs, loc=0)\n",
    "ax2.set_ylim(0,23)\n",
    "ax1.grid()\n",
    "plt.savefig(file_name, bbox_inches='tight', format='pdf')\n",
    "plt.show()\n",
    "print(file_name)"
   ]
  },
  {
   "cell_type": "markdown",
   "metadata": {},
   "source": [
    "### Figure S7"
   ]
  },
  {
   "cell_type": "code",
   "execution_count": null,
   "metadata": {},
   "outputs": [],
   "source": [
    "from src.evaluation_geographic import GeographicValidation\n",
    "\n",
    "ifs = np.where(data.ifs<0.001, np.ones_like(data.ifs), np.ones_like(data.ifs)*-1)\n",
    "dnn = np.where(data.dnn<0.001, np.ones_like(data.dnn), np.ones_like(data.ifs)*-1)\n",
    "\n",
    "eval = GeographicValidation(ds.latitude, ds.longitude,\n",
    "                               orography_flag=False,\n",
    "                               mask_threshold=-1,\n",
    "                               clean_threshold=None,\n",
    "                               show_coordinates=False\n",
    "                              )\n",
    "metric_name = 'HSS'\n",
    "\n",
    "configs['HSS']['title'] = None\n",
    "configs['HSS']['cbar_title'] = 'DNN (Weighted) HSS'\n",
    "\n",
    "plt.figure(figsize=(16,6))\n",
    "\n",
    "eval.plot_overlap(metric_name, ifs, dnn, configs=configs, single_plot=False)\n",
    "\n",
    "fname = f'figure_name.pdf'\n",
    "plt.tight_layout()\n",
    "plt.savefig(fname, format='pdf')"
   ]
  },
  {
   "cell_type": "markdown",
   "metadata": {},
   "source": [
    "### Figure S1"
   ]
  },
  {
   "cell_type": "code",
   "execution_count": null,
   "metadata": {},
   "outputs": [],
   "source": [
    "dnn_weighted, trmm, ifs = load_high_resolution()"
   ]
  },
  {
   "cell_type": "code",
   "execution_count": null,
   "metadata": {},
   "outputs": [],
   "source": [
    "PlotSingleFrames(dnn_weighted, ifs, trmm, timestamps=['2012-07-16T00', '2013-07-16T00', '2014-07-16T00']).plot()"
   ]
  }
 ],
 "metadata": {
  "kernelspec": {
   "display_name": "firstEnv",
   "language": "python",
   "name": "firstenv"
  },
  "language_info": {
   "codemirror_mode": {
    "name": "ipython",
    "version": 3
   },
   "file_extension": ".py",
   "mimetype": "text/x-python",
   "name": "python",
   "nbconvert_exporter": "python",
   "pygments_lexer": "ipython3",
   "version": "3.6.13"
  }
 },
 "nbformat": 4,
 "nbformat_minor": 4
}
