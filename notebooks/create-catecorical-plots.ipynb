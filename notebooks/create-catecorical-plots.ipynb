{
 "cells": [
  {
   "cell_type": "markdown",
   "metadata": {},
   "source": [
    "# Create plots of categorical results\n",
    "\n",
    "First run the src/categorical_analysis.py script to compute the results to be plotted here."
   ]
  },
  {
   "cell_type": "code",
   "execution_count": null,
   "metadata": {},
   "outputs": [],
   "source": [
    "import pandas as pd\n",
    "import numpy as np\n",
    "import matplotlib.pyplot as plt\n",
    "import src.evaluation_utils as eu\n",
    "import src.evaluation_plots as ep\n",
    "from src.analysis import load_test_data, compute_thresholds, transform_to_categorical_data, compute_scores,\\\n",
    "save_data, load_data\n",
    "import xarray as xr"
   ]
  },
  {
   "cell_type": "code",
   "execution_count": null,
   "metadata": {},
   "outputs": [],
   "source": [
    "in_path = '/path/to/analysis/analysis'\n",
    "figures_path = '/path/to/figures'"
   ]
  },
  {
   "cell_type": "markdown",
   "metadata": {},
   "source": [
    "### Figures S2 - S5 "
   ]
  },
  {
   "cell_type": "code",
   "execution_count": null,
   "metadata": {},
   "outputs": [],
   "source": [
    "from src.plot_utils import PlotCategoricalScores\n",
    "percentiles = ['75', '80', '85', '90', '95', '97.5', '99']\n",
    "model_names = ['ifs', 'linear', 'dnn', 'dnn_mssim', 'dnn_weighted', 'qm']\n",
    "metric_names = ['heidke_skill_score', 'f1', 'critical_success_index', 'false_alarm_ratio', 'probability_of_detection']\n",
    "metric_names_short = ['HSS', 'F1', 'CSI', 'FAR', 'POD']\n",
    "\n",
    "for i, metric_name in enumerate(metric_names):\n",
    "    file_name = f'{figures_path}/{metric_names_short[i]}_scores_3hourly_rev1.pdf'\n",
    "    print(file_name)\n",
    "    pcs = PlotCategoricalScores(in_path, percentiles, model_names)\n",
    "    pcs.load_results()\n",
    "    df = pcs.get_results()\n",
    "    pcs.single_plot(metric_name, file_name=file_name)"
   ]
  },
  {
   "cell_type": "markdown",
   "metadata": {},
   "source": [
    "### Figure 2"
   ]
  },
  {
   "cell_type": "code",
   "execution_count": null,
   "metadata": {},
   "outputs": [],
   "source": [
    "from src.plot_utils import PlotCategoricalScores\n",
    "model_names = ['ifs', 'linear', 'dnn', 'dnn_mssim', 'dnn_weighted', 'qm']\n",
    "percentiles = ['75', '80', '85', '90', '95', '97.5', '99']\n",
    "file_name = f'{figures_path}/histograms_hss_abcd_rev1.pdf'\n",
    "\n",
    "pcs = PlotCategoricalScores(in_path, percentiles, model_names)\n",
    "pcs.load_results()\n",
    "df = pcs.get_results()\n",
    "pcs.plot_summary(file_name=file_name)"
   ]
  }
 ],
 "metadata": {
  "kernelspec": {
   "display_name": "gan",
   "language": "python",
   "name": "gan"
  },
  "language_info": {
   "codemirror_mode": {
    "name": "ipython",
    "version": 3
   },
   "file_extension": ".py",
   "mimetype": "text/x-python",
   "name": "python",
   "nbconvert_exporter": "python",
   "pygments_lexer": "ipython3",
   "version": "3.9.0"
  }
 },
 "nbformat": 4,
 "nbformat_minor": 4
}
